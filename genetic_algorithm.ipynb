{
 "cells": [
  {
   "cell_type": "markdown",
   "id": "07fbacc2-1c9c-4fec-b1b7-e548f8390b1e",
   "metadata": {},
   "source": [
    "# Installing libraries\n",
    "This part helps install libraries that are not available OOTB."
   ]
  },
  {
   "cell_type": "code",
   "execution_count": null,
   "id": "0ec2a319-6d29-4f45-a536-cdff72c06166",
   "metadata": {},
   "outputs": [],
   "source": [
    "import sys\n",
    "!{sys.executable} -m pip install matplotlib\n",
    "!{sys.executable} -m pip install numpy\n"
   ]
  },
  {
   "cell_type": "markdown",
   "id": "7d8ae30d-97a7-48f2-a9b7-01fd4a0f921f",
   "metadata": {},
   "source": [
    "# Imports\n",
    "\n",
    "Here we import all libraries we'll use and install `matplotlib` and `numby` modules needed for further work."
   ]
  },
  {
   "cell_type": "code",
   "execution_count": null,
   "id": "46d1164b-e9a3-4db0-9250-446974f59938",
   "metadata": {},
   "outputs": [],
   "source": [
    "import random\n",
    "import matplotlib as mpl\n",
    "import matplotlib.pyplot as plt\n",
    "import numpy as np\n",
    "import csv\n",
    "import math"
   ]
  },
  {
   "cell_type": "markdown",
   "id": "5e89c33e-f4ee-4717-a0df-a1bf62cf415a",
   "metadata": {
    "tags": []
   },
   "source": [
    "# Loading data"
   ]
  },
  {
   "cell_type": "code",
   "execution_count": null,
   "id": "0b41b64d-39eb-474c-b678-918f1b9ec55f",
   "metadata": {},
   "outputs": [],
   "source": [
    "X = []\n",
    "Y = []\n",
    "with open('data.csv', 'r') as csvfile:\n",
    "    spamreader = csv.reader(csvfile, delimiter=',', quotechar='\"')\n",
    "    for row in spamreader:\n",
    "        X.append(int(row[0]))\n",
    "        Y.append(int(row[1]))"
   ]
  },
  {
   "cell_type": "code",
   "execution_count": null,
   "id": "2269b0de-d7c7-451c-abd1-332c5c0a64ee",
   "metadata": {},
   "outputs": [],
   "source": [
    "plt.rcParams['figure.figsize'] = [20, 10]\n",
    "plt.scatter(X,Y,marker=\"o\")\n",
    "plt.xlabel(\"Costume cost\")\n",
    "plt.ylabel(\"# of comic issues\")\n",
    "plt.show()"
   ]
  },
  {
   "cell_type": "markdown",
   "id": "bec01946-fdb5-43be-b7d7-48352c1d8900",
   "metadata": {},
   "source": [
    "# Generating population\n",
    "We're looking for optimal parameters _a_ and _b_ for the _f(x) = ax + b equation_ that is used for linear regression of the data.\n",
    "\n",
    "Our individual will take a a binary form of which first half codes the _a_ parameter and second half codes the _b_ parameter.\n",
    "\n",
    "Individual: \\[binary_parameter_a | binary_parameter_b\\], e.g. \\[0 0 0 1 | 1 0 1 0\\]"
   ]
  },
  {
   "cell_type": "code",
   "execution_count": null,
   "id": "74da458b-0823-4305-9505-29992941a6b5",
   "metadata": {},
   "outputs": [],
   "source": [
    "def generate_binary_phenotype(size: int):\n",
    "    return [random.randrange(0, 2, 1) for i in range(size)]\n",
    "\n",
    "def generate_population(population_size: int, phenotype_size: int, generator):\n",
    "    return [generator(phenotype_size) for i in range(population_size)]"
   ]
  },
  {
   "cell_type": "code",
   "execution_count": null,
   "id": "2f97cfd6-b867-40e9-b773-8242947e24da",
   "metadata": {},
   "outputs": [],
   "source": [
    "population = generate_population(100, 32, generate_binary_phenotype)\n",
    "\n",
    "print(f\"Population size: {len(population)}\")\n",
    "print(f\"First individual: {str(population[0])}\")"
   ]
  },
  {
   "cell_type": "code",
   "execution_count": null,
   "id": "7d2cf432-7ed3-4f08-9467-0468dd3a1f06",
   "metadata": {},
   "outputs": [],
   "source": [
    "def decode_individual(individual):\n",
    "    half = int(len(individual)/2)\n",
    "    a = int(\"\".join(str(x) for x in individual[0:half]), 2)\n",
    "    b = int(\"\".join(str(x) for x in individual[half:]), 2)\n",
    "    return a, b\n",
    "\n",
    "def fitness_function(individual):\n",
    "    a, b = decode_individual(individual)\n",
    "    fitness = 0\n",
    "    for i in range(len(X)):\n",
    "        fitness = fitness + abs(Y[i] - (a*X[i]+b))\n",
    "    return individual, fitness"
   ]
  },
  {
   "cell_type": "code",
   "execution_count": null,
   "id": "e7bbcdb7-301d-4287-9ab5-97bd16c189c5",
   "metadata": {},
   "outputs": [],
   "source": [
    "test_individual = population[0]\n",
    "test_individual, fitness_value = fitness_function(test_individual)\n",
    "test_a, test_b = decode_individual(test_individual)\n",
    "print(f\"Test individual: {str(test_individual)} codes {test_a}x + {test_b} function\")\n",
    "print(f\"Test individual's fitness value: {fitness_value}\")"
   ]
  },
  {
   "cell_type": "code",
   "execution_count": null,
   "id": "a08d4da5-e61a-4bd7-bd44-97fe65613271",
   "metadata": {
    "tags": []
   },
   "outputs": [],
   "source": [
    "individual_fitness_pairs = list(map(fitness_function, population))\n",
    "best = min(individual_fitness_pairs, key=lambda item: item[1])\n",
    "worst = max(individual_fitness_pairs, key=lambda item: item[1])\n"
   ]
  },
  {
   "cell_type": "code",
   "execution_count": null,
   "id": "eb8c2be5-71b9-45f8-81d9-f19130b3b21b",
   "metadata": {},
   "outputs": [],
   "source": [
    "a_best, b_best = decode_individual(best[0])\n",
    "a_worst, b_worst = decode_individual(worst[0])\n",
    "\n",
    "plt.rcParams['figure.figsize'] = [20, 10]\n",
    "\n",
    "figure, axis = plt.subplots(ncols=2)\n",
    "\n",
    "x_best = np.arange(0.0, 2000.0, 1.0)\n",
    "y_best = np.add(np.multiply(x_best,a_best), b_best)\n",
    "\n",
    "x_worst = np.arange(0.0, 2000.0, 1.0)\n",
    "y_worst = np.add(np.multiply(x_worst,a_worst), b_worst)\n",
    "\n",
    "axis[0].scatter(X,Y,marker=\"o\")\n",
    "axis[1].scatter(X,Y,marker=\"o\")\n",
    "axis[0].plot(x_best, y_best)\n",
    "axis[1].plot(x_worst, y_worst)\n",
    "\n",
    "plt.show()"
   ]
  },
  {
   "cell_type": "code",
   "execution_count": null,
   "id": "3d4d0ccb-2875-4091-900c-e801b24edfd5",
   "metadata": {},
   "outputs": [],
   "source": [
    "def mutation(individual, initial_mutation_rate):\n",
    "    mutation_rate = 1/len(individual) if initial_mutation_rate < 0 else initial_mutation_rate\n",
    "    new_phenotype = []\n",
    "    for value in individual:\n",
    "        new_phenotype.append( abs(value - 1) if random.random() < mutation_rate else value)\n",
    "    return new_phenotype\n",
    "\n",
    "print (\"Original phenotype: \" +  str(worst[0]))\n",
    "mutant = mutation(worst[0], 0.5)\n",
    "print (\"Mutated phenotype : \" +  str(mutant))"
   ]
  },
  {
   "cell_type": "code",
   "execution_count": null,
   "id": "4cde35f3-9cad-41bd-9209-fb3e19764eae",
   "metadata": {},
   "outputs": [],
   "source": [
    "def recombination(individual_1, individual_2):\n",
    "    crossover_point = random.randrange(1, len(individual_1), 1)\n",
    "    child_1 = individual_1[:crossover_point] + individual_2[crossover_point:]\n",
    "    child_2 = individual_2[:crossover_point] + individual_1[crossover_point:]\n",
    "    return child_1, child_2\n",
    "\n",
    "test_1 = [1, 1, 1, 1, 1, 1, 1, 1]\n",
    "test_2 = [0, 0, 0, 0, 0, 0, 0, 0]\n",
    "child_1, child_2 = recombination(test_1, test_2)\n",
    "print(f\"Children: {str(child_1)} & {str(child_2)}\")"
   ]
  },
  {
   "cell_type": "code",
   "execution_count": null,
   "id": "1ee71722-f91a-4b16-a705-e9281497fb3f",
   "metadata": {},
   "outputs": [],
   "source": [
    "test = [('a', 10), ('b', 17), ('c', 11)]\n",
    "def simple_selection(individual_fitness_pairs):\n",
    "    first = individual_fitness_pairs[random.randrange(0, len(individual_fitness_pairs), 1)]\n",
    "    individual_fitness_pairs.remove(first)\n",
    "    second = individual_fitness_pairs[random.randrange(0, len(individual_fitness_pairs), 1)]\n",
    "    individual_fitness_pairs.remove(second)\n",
    "    return first[0], second[0], individual_fitness_pairs\n",
    "\n",
    "f, s, ind = simple_selection(test)\n",
    "print(f)\n",
    "print(s)\n",
    "print(str(ind))"
   ]
  },
  {
   "cell_type": "code",
   "execution_count": null,
   "id": "6cf2f64e-ed85-4658-bd14-a7b9ebd86ece",
   "metadata": {},
   "outputs": [],
   "source": [
    "test = [('a', 10), ('b', 17), ('c', 11)]\n",
    "def monte_carlo_selection(individual_fitness_pairs):\n",
    "    rulette_wheel = []\n",
    "    temp = list(map(lambda x : (x[0], math.ceil(10000/x[1])), individual_fitness_pairs))\n",
    "    for index in range(len(temp)):\n",
    "        rulette_wheel = rulette_wheel + temp[index][1]*[index]\n",
    "    rand = random.randrange(0, len(rulette_wheel), 1)\n",
    "    first = individual_fitness_pairs[rulette_wheel[rand]]\n",
    "    rulette_wheel = [index for index in rulette_wheel if index != rulette_wheel[rand]]\n",
    "    rand = random.randrange(0, len(rulette_wheel), 1)\n",
    "    second = individual_fitness_pairs[rulette_wheel[rand]]\n",
    "    individual_fitness_pairs.remove(first)\n",
    "    individual_fitness_pairs.remove(second)\n",
    "    return first[0], second[0], individual_fitness_pairs\n",
    "    \n",
    "f, s, ind = monte_carlo_selection(test)\n",
    "print(f)\n",
    "print(s)\n",
    "print(str(ind))"
   ]
  },
  {
   "cell_type": "code",
   "execution_count": null,
   "id": "2543c511-1164-4e47-bb06-c9cccfa27c70",
   "metadata": {},
   "outputs": [],
   "source": [
    "def breedResult(population, mutation_rate, elite_size, epochs, fitness_f, mutation_f, recombination_f, selection_f):\n",
    "    pop_size = len(population)\n",
    "    best_history = []\n",
    "    current_population = population\n",
    "    for epoch in range(epochs):\n",
    "        new_population = []\n",
    "        individual_fitness_pairs = list(map(fitness_f, current_population))\n",
    "        individual_fitness_pairs.sort(key=lambda x : x[1])\n",
    "        best_history.append(individual_fitness_pairs[0][0])\n",
    "        new_population = new_population + [individual[0] for individual in individual_fitness_pairs][:elite_size]\n",
    "        while len(new_population) < pop_size:\n",
    "            first, second, individual_fitness_pairs = selection_f(individual_fitness_pairs)\n",
    "            first, second = recombination_f(first, second)\n",
    "            first = mutation_f(first, mutation_rate)\n",
    "            second = mutation_f(second, mutation_rate)\n",
    "            new_population.append(first)\n",
    "            new_population.append(second)\n",
    "        current_population = new_population\n",
    "    return best_history\n",
    "\n",
    "results = breedResult(population, -1, 10, 100, fitness_function, mutation, recombination, monte_carlo_selection)"
   ]
  },
  {
   "cell_type": "code",
   "execution_count": null,
   "id": "1a405a8d-dac2-4735-a156-4093a7e7afc4",
   "metadata": {},
   "outputs": [],
   "source": [
    "a_best, b_best = decode_individual(results[-1])\n",
    "\n",
    "plt.rcParams['figure.figsize'] = [20, 10]\n",
    "\n",
    "figure, axis = plt.subplots(ncols=2)\n",
    "\n",
    "x_best = np.arange(0.0, 2000.0, 1.0)\n",
    "y_best = np.add(np.multiply(x_best,a_best), b_best)\n",
    "\n",
    "x_worst = np.arange(0.0, 2000.0, 1.0)\n",
    "for result in results:\n",
    "    current = decode_individual(result)\n",
    "    a_worst, b_worst = decode_individual(result)\n",
    "    y_worst = np.add(np.multiply(x_worst,a_worst), b_worst)\n",
    "    axis[1].plot(x_worst, y_worst)\n",
    "\n",
    "axis[0].scatter(X,Y,marker=\"o\")\n",
    "axis[1].scatter(X,Y,marker=\"o\")\n",
    "axis[0].plot(x_best, y_best)\n",
    "\n",
    "plt.show()\n",
    "print(f\"Best solution {a_best}x + {b_best}\")"
   ]
  },
  {
   "cell_type": "code",
   "execution_count": null,
   "id": "38bf1314-5571-4698-8ca5-a337b1e511e5",
   "metadata": {},
   "outputs": [],
   "source": [
    "def decode_individual_sq(individual):\n",
    "    third = int(len(individual)/3)\n",
    "    a = int(\"\".join(str(x) for x in individual[0:third]), 2)\n",
    "    b = int(\"\".join(str(x) for x in individual[third:(third + third)]), 2)\n",
    "    c = int(\"\".join(str(x) for x in individual[(third + third):]), 2)\n",
    "    return a, b, c\n",
    "\n",
    "def fitness_function_sq(individual):\n",
    "    a, b, c = decode_individual_sq(individual)\n",
    "    fitness = 0\n",
    "    for i in range(len(X)):\n",
    "        fitness = fitness + abs(Y[i] - (a*X[i]**2+b*X[i]+c))\n",
    "    return individual, fitness\n",
    "\n",
    "population = generate_population(200, 48, generate_binary_phenotype)\n",
    "\n",
    "results = breedResult(population, -1, 10, 100, fitness_function_sq, mutation, recombination, monte_carlo_selection)\n",
    "\n",
    "a_best, b_best, c_best = decode_individual_sq(results[-1])\n",
    "a_first, b_first, c_first = decode_individual_sq(results[1])\n",
    "\n",
    "plt.rcParams['figure.figsize'] = [20, 10]\n",
    "\n",
    "x_best = np.arange(0.0, 2000.0, 1.0)\n",
    "y_best = np.add(np.multiply(np.multiply(x_best,x_best),a_best), np.add(np.multiply(x_best,b_best), c_best))\n",
    "y_first = np.add(np.multiply(np.multiply(x_best,x_best),a_first), np.add(np.multiply(x_best,b_first), c_first))\n",
    "\n",
    "plt.scatter(X,Y,marker=\"o\"),\n",
    "plt.plot(x_best, y_best)\n",
    "# plt.plot(x_best, y_first)\n",
    "plt.xlabel(\"Costume cost\")\n",
    "plt.ylabel(\"# of comic issues\")\n",
    "plt.show()\n",
    "print(f\"Best solution {a_best}x^2 + {b_best}x + {c_best}\")"
   ]
  },
  {
   "cell_type": "code",
   "execution_count": null,
   "id": "ebf01031-d814-4d73-bf2a-725076023c5d",
   "metadata": {},
   "outputs": [],
   "source": []
  }
 ],
 "metadata": {
  "kernelspec": {
   "display_name": "Python 3 (ipykernel)",
   "language": "python",
   "name": "python3"
  },
  "language_info": {
   "codemirror_mode": {
    "name": "ipython",
    "version": 3
   },
   "file_extension": ".py",
   "mimetype": "text/x-python",
   "name": "python",
   "nbconvert_exporter": "python",
   "pygments_lexer": "ipython3",
   "version": "3.8.10"
  }
 },
 "nbformat": 4,
 "nbformat_minor": 5
}
