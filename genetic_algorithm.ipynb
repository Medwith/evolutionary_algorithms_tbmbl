{
 "cells": [
  {
   "cell_type": "code",
   "execution_count": 1,
   "id": "0aecf756-5b50-499e-a9d9-9f84e8c71539",
   "metadata": {},
   "outputs": [
    {
     "name": "stdout",
     "output_type": "stream",
     "text": [
      "Defaulting to user installation because normal site-packages is not writeable\n",
      "Collecting matplotlib\n",
      "  Downloading matplotlib-3.5.1-cp38-cp38-manylinux_2_5_x86_64.manylinux1_x86_64.whl (11.3 MB)\n",
      "\u001b[2K     \u001b[38;2;114;156;31m━━━━━━━━━━━━━━━━━━━━━━━━━━━━━━━━━━━━━━━━\u001b[0m \u001b[32m11.3/11.3 MB\u001b[0m \u001b[31m4.9 MB/s\u001b[0m eta \u001b[36m0:00:00\u001b[0mm eta \u001b[36m0:00:01\u001b[0m[36m0:00:01\u001b[0m\n",
      "\u001b[?25hCollecting fonttools>=4.22.0\n",
      "  Downloading fonttools-4.29.1-py3-none-any.whl (895 kB)\n",
      "\u001b[2K     \u001b[38;2;114;156;31m━━━━━━━━━━━━━━━━━━━━━━━━━━━━━━━━━━━━━━━\u001b[0m \u001b[32m895.5/895.5 KB\u001b[0m \u001b[31m4.7 MB/s\u001b[0m eta \u001b[36m0:00:00\u001b[0mm eta \u001b[36m0:00:01\u001b[0m[36m0:00:01\u001b[0m\n",
      "\u001b[?25hCollecting cycler>=0.10\n",
      "  Downloading cycler-0.11.0-py3-none-any.whl (6.4 kB)\n",
      "Requirement already satisfied: python-dateutil>=2.7 in /home/medwith/.local/lib/python3.8/site-packages (from matplotlib) (2.8.2)\n",
      "Requirement already satisfied: packaging>=20.0 in /usr/lib/python3/dist-packages (from matplotlib) (20.3)\n",
      "Requirement already satisfied: pyparsing>=2.2.1 in /usr/lib/python3/dist-packages (from matplotlib) (2.4.6)\n",
      "Requirement already satisfied: pillow>=6.2.0 in /usr/lib/python3/dist-packages (from matplotlib) (7.0.0)\n",
      "Collecting kiwisolver>=1.0.1\n",
      "  Downloading kiwisolver-1.3.2-cp38-cp38-manylinux_2_5_x86_64.manylinux1_x86_64.whl (1.2 MB)\n",
      "\u001b[2K     \u001b[38;2;114;156;31m━━━━━━━━━━━━━━━━━━━━━━━━━━━━━━━━━━━━━━━━\u001b[0m \u001b[32m1.2/1.2 MB\u001b[0m \u001b[31m4.6 MB/s\u001b[0m eta \u001b[36m0:00:00\u001b[0mm eta \u001b[36m0:00:01\u001b[0m0:01\u001b[0m:01\u001b[0m\n",
      "\u001b[?25hCollecting numpy>=1.17\n",
      "  Downloading numpy-1.22.2-cp38-cp38-manylinux_2_17_x86_64.manylinux2014_x86_64.whl (16.8 MB)\n",
      "\u001b[2K     \u001b[38;2;114;156;31m━━━━━━━━━━━━━━━━━━━━━━━━━━━━━━━━━━━━━━━━\u001b[0m \u001b[32m16.8/16.8 MB\u001b[0m \u001b[31m4.7 MB/s\u001b[0m eta \u001b[36m0:00:00\u001b[0mm eta \u001b[36m0:00:01\u001b[0m[36m0:00:01\u001b[0m\n",
      "\u001b[?25hRequirement already satisfied: six>=1.5 in /usr/lib/python3/dist-packages (from python-dateutil>=2.7->matplotlib) (1.14.0)\n",
      "Installing collected packages: numpy, kiwisolver, fonttools, cycler, matplotlib\n",
      "Successfully installed cycler-0.11.0 fonttools-4.29.1 kiwisolver-1.3.2 matplotlib-3.5.1 numpy-1.22.2\n",
      "Defaulting to user installation because normal site-packages is not writeable\n",
      "Requirement already satisfied: numpy in /home/medwith/.local/lib/python3.8/site-packages (1.22.2)\n"
     ]
    }
   ],
   "source": [
    "import sys\n",
    "!{sys.executable} -m pip install matplotlib\n",
    "!{sys.executable} -m pip install numpy"
   ]
  },
  {
   "cell_type": "code",
   "execution_count": 2,
   "id": "77d35461-2e4f-4593-b0b1-22bb50d8fd61",
   "metadata": {},
   "outputs": [],
   "source": [
    "import random"
   ]
  },
  {
   "cell_type": "code",
   "execution_count": 3,
   "id": "74da458b-0823-4305-9505-29992941a6b5",
   "metadata": {},
   "outputs": [
    {
     "name": "stdout",
     "output_type": "stream",
     "text": [
      "Random phenotype: [1, 37, 15, 11, 24, 46, 19]\n"
     ]
    }
   ],
   "source": [
    "phenotype = [random.randrange(1, 50, 1) for i in range(7)]\n",
    " \n",
    "# printing result\n",
    "print (\"Random phenotype: \" +  str(phenotype))"
   ]
  },
  {
   "cell_type": "code",
   "execution_count": 1,
   "id": "dcac910e-5e9e-490a-8f93-695ae48f9e95",
   "metadata": {},
   "outputs": [],
   "source": [
    "import matplotlib as mpl\n",
    "import matplotlib.pyplot as plt\n",
    "import numpy as np"
   ]
  },
  {
   "cell_type": "code",
   "execution_count": 5,
   "id": "38dd85a3-df1a-447e-b048-65e21d2f3695",
   "metadata": {},
   "outputs": [
    {
     "data": {
      "image/png": "[encoded data removed]",
      "text/plain": [
       "<Figure size 360x194.4 with 1 Axes>"
      ]
     },
     "metadata": {
      "needs_background": "light"
     },
     "output_type": "display_data"
    }
   ],
   "source": [
    "x = np.linspace(0, 2, 100)  # Sample data.\n",
    "\n",
    "# Note that even in the OO-style, we use `.pyplot.figure` to create the Figure.\n",
    "fig, ax = plt.subplots(figsize=(5, 2.7), layout='constrained')\n",
    "ax.plot(x, x, label='linear')  # Plot some data on the axes.\n",
    "ax.plot(x, x**2, label='quadratic')  # Plot more data on the axes...\n",
    "ax.plot(x, x**3, label='cubic')  # ... and some more.\n",
    "ax.set_xlabel('x label')  # Add an x-label to the axes.\n",
    "ax.set_ylabel('y label')  # Add a y-label to the axes.\n",
    "ax.set_title(\"Simple Plot\")  # Add a title to the axes.\n",
    "ax.legend();  # Add a legend.\n"
   ]
  },
  {
   "cell_type": "code",
   "execution_count": 6,
   "id": "3d4d0ccb-2875-4091-900c-e801b24edfd5",
   "metadata": {},
   "outputs": [],
   "source": [
    "def mutation(phenotype, mutation):\n",
    "    mutation_rate = 1/len(phenotype) if mutation < 0 else mutation\n",
    "    new_phenotype = []\n",
    "    for value in phenotype:\n",
    "        new_phenotype.append(random.randrange(1, 50) if random.random() < mutation_rate else value)\n",
    "    return new_phenotype"
   ]
  },
  {
   "cell_type": "code",
   "execution_count": 7,
   "id": "581bffb5-1408-4798-9cb9-39a9d0b6de5f",
   "metadata": {},
   "outputs": [
    {
     "name": "stdout",
     "output_type": "stream",
     "text": [
      "Original phenotype: [1, 37, 15, 11, 24, 46, 19]\n",
      "Mutated phenotype: [1, 37, 42, 11, 13, 46, 19]\n"
     ]
    }
   ],
   "source": [
    "print (\"Original phenotype: \" +  str(phenotype))\n",
    "mutant = mutation(phenotype, 0.5)\n",
    "print (\"Mutated phenotype: \" +  str(mutant))"
   ]
  },
  {
   "cell_type": "code",
   "execution_count": 8,
   "id": "4cde35f3-9cad-41bd-9209-fb3e19764eae",
   "metadata": {},
   "outputs": [],
   "source": [
    "def recombination(phenotype_1, phenotype_2):\n",
    "    crossover_point = random.randrange(1, len(phenotype_1), 1)\n",
    "    child_1 = phenotype_1[:crossover_point] + phenotype_2[crossover_point:]\n",
    "    child_2 = phenotype_2[:crossover_point] + phenotype_1[crossover_point:]\n",
    "    return child_1, child_2"
   ]
  },
  {
   "cell_type": "code",
   "execution_count": 9,
   "id": "740c62e0-130b-4581-bc6c-005327fc6f5c",
   "metadata": {},
   "outputs": [
    {
     "name": "stdout",
     "output_type": "stream",
     "text": [
      "Child 1 phenotype: [0, 0, 0, 0, 0, 0, 1]\n",
      "Child 2 phenotype: [1, 1, 1, 1, 1, 1, 0]\n"
     ]
    }
   ],
   "source": [
    "partner_1 = [0, 0, 0, 0, 0, 0, 0]\n",
    "partner_2 = [1, 1, 1, 1, 1, 1, 1]\n",
    "child_1, child_2 = recombination(partner_1, partner_2)\n",
    "print (\"Child 1 phenotype: \" +  str(child_1))\n",
    "print (\"Child 2 phenotype: \" +  str(child_2))"
   ]
  },
  {
   "cell_type": "code",
   "execution_count": 10,
   "id": "8a4e4ba0-1865-4794-a678-bba6b5ea7661",
   "metadata": {},
   "outputs": [],
   "source": [
    "class Individual:\n",
    "    def __init__(self, genom):\n",
    "        self.genom = genom\n",
    "        self.fitness_score = 0"
   ]
  },
  {
   "cell_type": "code",
   "execution_count": 11,
   "id": "1d7d2864-7800-480d-b5a2-f08f8734eb39",
   "metadata": {},
   "outputs": [
    {
     "name": "stdout",
     "output_type": "stream",
     "text": [
      "X genom: [1, 2, 3, 4, 5]\n",
      "X fitness: 0\n",
      "X fitness: 15\n"
     ]
    }
   ],
   "source": [
    "x = Individual([1, 2, 3, 4, 5])\n",
    "print (\"X genom: \" + str(x.genom))\n",
    "print (\"X fitness: \" + str(x.fitness_score))\n",
    "x.fitness_score = 15\n",
    "print (\"X fitness: \" + str(x.fitness_score))"
   ]
  },
  {
   "cell_type": "code",
   "execution_count": 42,
   "id": "0b41b64d-39eb-474c-b678-918f1b9ec55f",
   "metadata": {},
   "outputs": [
    {
     "data": {
      "image/png": "[encoded data removed]",
      "text/plain": [
       "<Figure size 1440x720 with 1 Axes>"
      ]
     },
     "metadata": {
      "needs_background": "light"
     },
     "output_type": "display_data"
    }
   ],
   "source": [
    "import csv\n",
    "x = []\n",
    "y = []\n",
    "with open('data.csv', 'r') as csvfile:\n",
    "    spamreader = csv.reader(csvfile, delimiter=',', quotechar='\"')\n",
    "    for row in spamreader:\n",
    "        x.append(int(row[0]))\n",
    "        y.append(int(row[1]))\n",
    "\n",
    "plt.rcParams['figure.figsize'] = [20, 10]\n",
    "\n",
    "\n",
    "plt.scatter(x,y,marker=\"o\")\n",
    "plt.xlabel(\"Costume cost\")\n",
    "plt.ylabel(\"# of comic issues\")\n",
    "plt.show()"
   ]
  },
  {
   "cell_type": "code",
   "execution_count": null,
   "id": "536c6c3c-2cac-4514-af6f-77c36304275b",
   "metadata": {},
   "outputs": [],
   "source": []
  }
 ],
 "metadata": {
  "kernelspec": {
   "display_name": "Python 3 (ipykernel)",
   "language": "python",
   "name": "python3"
  },
  "language_info": {
   "codemirror_mode": {
    "name": "ipython",
    "version": 3
   },
   "file_extension": ".py",
   "mimetype": "text/x-python",
   "name": "python",
   "nbconvert_exporter": "python",
   "pygments_lexer": "ipython3",
   "version": "3.8.10"
  }
 },
 "nbformat": 4,
 "nbformat_minor": 5
}
