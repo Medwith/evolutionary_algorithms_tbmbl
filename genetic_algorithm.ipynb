{
 "cells": [
  {
   "cell_type": "markdown",
   "id": "07fbacc2-1c9c-4fec-b1b7-e548f8390b1e",
   "metadata": {},
   "source": [
    "# Installing libraries\n",
    "This part helps install libraries that are not available OOTB."
   ]
  },
  {
   "cell_type": "code",
   "execution_count": null,
   "id": "0ec2a319-6d29-4f45-a536-cdff72c06166",
   "metadata": {},
   "outputs": [],
   "source": [
    "import sys\n",
    "!{sys.executable} -m pip install matplotlib\n",
    "!{sys.executable} -m pip install numpy\n"
   ]
  },
  {
   "cell_type": "markdown",
   "id": "7d8ae30d-97a7-48f2-a9b7-01fd4a0f921f",
   "metadata": {},
   "source": [
    "# Imports\n",
    "\n",
    "Here we import all libraries we'll use and install `matplotlib` and `numby` modules needed for further work."
   ]
  },
  {
   "cell_type": "code",
   "execution_count": null,
   "id": "46d1164b-e9a3-4db0-9250-446974f59938",
   "metadata": {},
   "outputs": [],
   "source": [
    "import random\n",
    "import matplotlib as mpl\n",
    "import matplotlib.pyplot as plt\n",
    "import numpy as np\n",
    "import csv\n",
    "import math"
   ]
  },
  {
   "cell_type": "markdown",
   "id": "5e89c33e-f4ee-4717-a0df-a1bf62cf415a",
   "metadata": {
    "tags": []
   },
   "source": [
    "# Loading data"
   ]
  },
  {
   "cell_type": "code",
   "execution_count": null,
   "id": "0b41b64d-39eb-474c-b678-918f1b9ec55f",
   "metadata": {},
   "outputs": [],
   "source": [
    "X = []\n",
    "Y = []\n",
    "with open('board_games.csv', 'r') as csvfile:\n",
    "    spamreader = csv.DictReader(csvfile, delimiter=',', quotechar='\"')\n",
    "    for row in spamreader:\n",
    "        X.append(int(row['owned']))\n",
    "        Y.append(int(row['wishlist']))"
   ]
  },
  {
   "cell_type": "markdown",
   "id": "a2a0c0bc-9678-4075-89a5-42c657a7fae1",
   "metadata": {},
   "source": [
    "# Visualize the data"
   ]
  },
  {
   "cell_type": "code",
   "execution_count": null,
   "id": "2269b0de-d7c7-451c-abd1-332c5c0a64ee",
   "metadata": {},
   "outputs": [],
   "source": [
    "FONT_SIZE = 16\n",
    "plt.rc('font', size=FONT_SIZE)\n",
    "plt.rc('axes', titlesize=FONT_SIZE)\n",
    "plt.rcParams['figure.figsize'] = [20, 10]\n",
    "plt.scatter(X,Y,marker=\"o\")\n",
    "plt.xlabel(\"OWNED\")\n",
    "plt.ylabel(\"WISHLISTED\")\n",
    "plt.show()"
   ]
  },
  {
   "cell_type": "markdown",
   "id": "bec01946-fdb5-43be-b7d7-48352c1d8900",
   "metadata": {},
   "source": [
    "# Generating population\n",
    "We're looking for optimal parameters _a_ and _b_ for the $f(x) = a\\cdot x + b$ equation that is used for linear regression of the data.\n",
    "\n",
    "Our individual will take a a binary form of which first half codes the $a$ parameter and second half codes the $b$ parameter.\n",
    "\n",
    "Individual: \\[binary_parameter_a | binary_parameter_b\\], e.g. \\[0 0 0 1 | 1 0 1 0\\]"
   ]
  },
  {
   "cell_type": "code",
   "execution_count": null,
   "id": "7f31b5b4-5c02-41b5-8349-272f6bc69ad8",
   "metadata": {},
   "outputs": [],
   "source": [
    "def generate_binary_phenotype(size: int):\n",
    "    return [random.randrange(0, 2, 1) for i in range(size)]\n",
    "\n",
    "def generate_population(population_size: int, phenotype_size: int, generator):\n",
    "    return [generator(phenotype_size) for i in range(population_size)]\n",
    "\n",
    "population = generate_population(100, 32, generate_binary_phenotype)\n",
    "\n",
    "print(f\"Population size: {len(population)}\")\n",
    "print(f\"First individual: {str(population[0])}\")"
   ]
  },
  {
   "cell_type": "code",
   "execution_count": null,
   "id": "8982696c-0a39-498d-9192-e33f86d85009",
   "metadata": {},
   "outputs": [],
   "source": [
    "def decode_individual(individual):\n",
    "    half = int(len(individual)/2)\n",
    "    a = int(\"\".join(str(x) for x in individual[0:half]), 2)\n",
    "    b = int(\"\".join(str(x) for x in individual[half:]), 2)\n",
    "    a = a/1000\n",
    "    b = b/1000\n",
    "    return a, b\n",
    "\n",
    "def fitness_function(individual):\n",
    "    a, b = decode_individual(individual)\n",
    "    fitness = 0\n",
    "    for i in range(len(X)):\n",
    "        approximation = a*X[i]+b\n",
    "        fitness = fitness + ((Y[i] - approximation)**2)\n",
    "    return individual, fitness/len(X)\n",
    "\n",
    "first_individual = population[0]\n",
    "first_individual, fitness_value = fitness_function(first_individual)\n",
    "test_a, test_b = decode_individual(first_individual)\n",
    "print(f\"Test individual: {str(first_individual)} codes {test_a}x + {test_b} function\")\n",
    "print(f\"Test individual's fitness value: {fitness_value}\")"
   ]
  },
  {
   "cell_type": "markdown",
   "id": "3d3817e1-a7f5-4de7-9626-a65ae8aad13f",
   "metadata": {},
   "source": [
    "# Let's see what randomness has provided"
   ]
  },
  {
   "cell_type": "code",
   "execution_count": null,
   "id": "902345ab-ad72-4bfd-b501-fe9cba5116f8",
   "metadata": {
    "tags": []
   },
   "outputs": [],
   "source": [
    "individual_fitness_pairs = list(map(fitness_function, population))\n",
    "best = min(individual_fitness_pairs, key=lambda item: item[1])\n",
    "worst = max(individual_fitness_pairs, key=lambda item: item[1])\n",
    "\n",
    "a_best, b_best = decode_individual(best[0])\n",
    "a_worst, b_worst = decode_individual(worst[0])\n",
    "\n",
    "plt.rcParams['figure.figsize'] = [20, 10]\n",
    "\n",
    "figure, axis = plt.subplots(ncols=2)\n",
    "\n",
    "x_best = np.arange(0.0, 175000.0, 1.0)\n",
    "y_best = np.add(np.multiply(x_best,a_best), b_best)\n",
    "\n",
    "x_worst = np.arange(0.0, 175000.0, 1.0)\n",
    "y_worst = np.add(np.multiply(x_worst,a_worst), b_worst)\n",
    "\n",
    "axis[0].scatter(X,Y,marker=\"o\")\n",
    "axis[1].scatter(X,Y,marker=\"o\")\n",
    "axis[0].plot(x_best, y_best)\n",
    "axis[1].plot(x_worst, y_worst)\n",
    "\n",
    "plt.show()"
   ]
  },
  {
   "cell_type": "markdown",
   "id": "c55b690b-704e-49be-96c6-33dbe6d326ac",
   "metadata": {},
   "source": [
    "# Adding artificial intelligence"
   ]
  },
  {
   "cell_type": "markdown",
   "id": "e9160ab3-0796-467a-a96b-d8400604efed",
   "metadata": {},
   "source": [
    "## Mutation"
   ]
  },
  {
   "cell_type": "code",
   "execution_count": null,
   "id": "3d4d0ccb-2875-4091-900c-e801b24edfd5",
   "metadata": {},
   "outputs": [],
   "source": [
    "def mutation(individual, initial_mutation_rate):\n",
    "    mutation_rate = 1/len(individual) if initial_mutation_rate < 0 else initial_mutation_rate\n",
    "    new_phenotype = []\n",
    "    for value in individual:\n",
    "        new_phenotype.append( abs(value - 1) if random.random() < mutation_rate else value)\n",
    "    return new_phenotype\n",
    "\n",
    "print (\"Original phenotype: \" +  str(worst[0]))\n",
    "mutant = mutation(worst[0], 0.5)\n",
    "print (\"Mutated phenotype : \" +  str(mutant))"
   ]
  },
  {
   "cell_type": "markdown",
   "id": "ff6d1b68-70f6-4a12-98ad-d2e2bc253acb",
   "metadata": {},
   "source": [
    "## Recombination"
   ]
  },
  {
   "cell_type": "code",
   "execution_count": null,
   "id": "4cde35f3-9cad-41bd-9209-fb3e19764eae",
   "metadata": {},
   "outputs": [],
   "source": [
    "def recombination(individual_1, individual_2):\n",
    "    crossover_point = random.randrange(1, len(individual_1), 1)\n",
    "    child_1 = individual_1[:crossover_point] + individual_2[crossover_point:]\n",
    "    child_2 = individual_2[:crossover_point] + individual_1[crossover_point:]\n",
    "    return child_1, child_2\n",
    "\n",
    "test_1 = [1, 1, 1, 1, 1, 1, 1, 1]\n",
    "test_2 = [0, 0, 0, 0, 0, 0, 0, 0]\n",
    "child_1, child_2 = recombination(test_1, test_2)\n",
    "print(f\"Children: {str(child_1)} & {str(child_2)}\")"
   ]
  },
  {
   "cell_type": "markdown",
   "id": "31c06f93-22f9-4439-8546-6cc311eee60d",
   "metadata": {},
   "source": [
    "## Selection"
   ]
  },
  {
   "cell_type": "code",
   "execution_count": null,
   "id": "1ee71722-f91a-4b16-a705-e9281497fb3f",
   "metadata": {},
   "outputs": [],
   "source": [
    "test = [('a', 0), ('b', 1), ('c', 2), ('d', 3), ('A', 100), ('B', 99), ('C', 101), ('D', 102) ]\n",
    "def simple_selection(individual_fitness_pairs):\n",
    "    first = individual_fitness_pairs[random.randrange(0, len(individual_fitness_pairs), 1)]\n",
    "    individual_fitness_pairs.remove(first)\n",
    "    second = individual_fitness_pairs[random.randrange(0, len(individual_fitness_pairs), 1)]\n",
    "    individual_fitness_pairs.remove(second)\n",
    "    return first[0], second[0], individual_fitness_pairs\n",
    "\n",
    "f1, s1, ind = simple_selection(test)\n",
    "f2, s2, ind = simple_selection(ind)\n",
    "f3, s3, ind = simple_selection(ind)\n",
    "\n",
    "print(f'First pair : ({f1}, {s1})')\n",
    "print(f'Second pair: ({f2}, {s2})')\n",
    "print(f'Third pair : ({f3}, {s3})')"
   ]
  },
  {
   "cell_type": "code",
   "execution_count": null,
   "id": "6cf2f64e-ed85-4658-bd14-a7b9ebd86ece",
   "metadata": {},
   "outputs": [],
   "source": [
    "test = [('a', 0), ('b', 1), ('c', 2), ('d', 3), ('A', 100), ('B', 99), ('C', 101), ('D', 102) ]\n",
    "def monte_carlo_selection(individual_fitness_pairs):\n",
    "    rulette_wheel = []\n",
    "    temp = list(map(lambda x : (x[0], math.ceil(10000/(x[1] if x[1] != 0 else 1))), individual_fitness_pairs))\n",
    "    for index in range(len(temp)):\n",
    "        rulette_wheel = rulette_wheel + temp[index][1]*[index]\n",
    "    rand = random.randrange(0, len(rulette_wheel), 1)\n",
    "    first = individual_fitness_pairs[rulette_wheel[rand]]\n",
    "    rulette_wheel = [index for index in rulette_wheel if index != rulette_wheel[rand]]\n",
    "    rand = random.randrange(0, len(rulette_wheel), 1)\n",
    "    second = individual_fitness_pairs[rulette_wheel[rand]]\n",
    "    individual_fitness_pairs.remove(first)\n",
    "    individual_fitness_pairs.remove(second)\n",
    "    return first[0], second[0], individual_fitness_pairs\n",
    "    \n",
    "f1, s1, ind = monte_carlo_selection(test)\n",
    "f2, s2, ind = monte_carlo_selection(ind)\n",
    "f3, s3, ind = monte_carlo_selection(ind)\n",
    "\n",
    "print(f'First pair : ({f1}, {s1})')\n",
    "print(f'Second pair: ({f2}, {s2})')\n",
    "print(f'Third pair : ({f3}, {s3})')"
   ]
  },
  {
   "cell_type": "markdown",
   "id": "a724d38c-be60-49a0-aca4-437916a65937",
   "metadata": {},
   "source": [
    "# Solution time\n",
    "Now we'll combine all the functions together to find the result"
   ]
  },
  {
   "cell_type": "code",
   "execution_count": null,
   "id": "2543c511-1164-4e47-bb06-c9cccfa27c70",
   "metadata": {},
   "outputs": [],
   "source": [
    "def breedResult(population, mutation_rate, elite_size, epochs, fitness_f, mutation_f, recombination_f, selection_f):\n",
    "    pop_size = len(population)\n",
    "    best_history = []\n",
    "    current_population = population\n",
    "    for epoch in range(epochs):\n",
    "        individual_fitness_pairs = list(map(fitness_f, current_population))\n",
    "        individual_fitness_pairs.sort(key=lambda x : x[1])\n",
    "        best_history.append(individual_fitness_pairs[0][0])\n",
    "        new_population = [individual[0] for individual in individual_fitness_pairs[:elite_size]]\n",
    "        while len(new_population) < pop_size:\n",
    "            first, second, individual_fitness_pairs = selection_f(individual_fitness_pairs)\n",
    "            first, second = recombination_f(first, second)\n",
    "            first = mutation_f(first, mutation_rate)\n",
    "            second = mutation_f(second, mutation_rate)\n",
    "            new_population.append(first)\n",
    "            new_population.append(second)\n",
    "        current_population = new_population\n",
    "    return best_history\n",
    "\n",
    "results = breedResult(population, -1, 10, 1000, fitness_function, mutation, recombination, monte_carlo_selection)"
   ]
  },
  {
   "cell_type": "code",
   "execution_count": null,
   "id": "1a405a8d-dac2-4735-a156-4093a7e7afc4",
   "metadata": {},
   "outputs": [],
   "source": [
    "a_best, b_best = decode_individual(results[-1])\n",
    "\n",
    "plt.rcParams['figure.figsize'] = [20, 10]\n",
    "\n",
    "figure, axis = plt.subplots(ncols=2)\n",
    "\n",
    "x_best = np.arange(0.0, 175000.0, 1.0)\n",
    "y_best = np.add(np.multiply(x_best,a_best), b_best)\n",
    "\n",
    "x_worst = np.arange(0.0, 175000.0, 1.0)\n",
    "for result in results:\n",
    "    current = decode_individual(result)\n",
    "    a_worst, b_worst = decode_individual(result)\n",
    "    y_worst = np.add(np.multiply(x_worst,a_worst), b_worst)\n",
    "    axis[1].plot(x_worst, y_worst)\n",
    "\n",
    "axis[0].scatter(X,Y,marker=\"o\")\n",
    "axis[1].scatter(X,Y,marker=\"o\")\n",
    "axis[0].plot(x_best, y_best)\n",
    "\n",
    "plt.show()\n",
    "print(f\"Best solution {a_best}x + {b_best}\")"
   ]
  },
  {
   "cell_type": "markdown",
   "id": "5f866f48-a052-4703-970b-3d32dbacbddd",
   "metadata": {},
   "source": [
    "# Proving I'm right - square regression\n",
    "To show that the line was selected the best way Genetic Algorithm could do it with the given limitations, we'll do the same exercise for a more complex equation: $f(x) = a\\cdot x^2 + b\\cdot x + c$."
   ]
  },
  {
   "cell_type": "code",
   "execution_count": null,
   "id": "38bf1314-5571-4698-8ca5-a337b1e511e5",
   "metadata": {},
   "outputs": [],
   "source": [
    "def decode_individual_sq(individual):\n",
    "    third = int(len(individual)/3)\n",
    "    a = int(\"\".join(str(x) for x in individual[0:third]), 2)\n",
    "    b = int(\"\".join(str(x) for x in individual[third:(third + third)]), 2)\n",
    "    c = int(\"\".join(str(x) for x in individual[(third + third):]), 2)\n",
    "    a = a/1000\n",
    "    b = b/1000\n",
    "    c = c/1000\n",
    "    return a, b, c\n",
    "\n",
    "def fitness_function_sq(individual):\n",
    "    a, b, c = decode_individual_sq(individual)\n",
    "    fitness = 0\n",
    "    for i in range(len(X)):\n",
    "        fitness = fitness + (Y[i] - (a*X[i]**2+b*X[i]+c))**2\n",
    "    return individual, fitness/len(X)\n",
    "\n",
    "population_sq = generate_population(200, 48, generate_binary_phenotype)\n",
    "\n",
    "results_sq = breedResult(population_sq, -1, 10, 100, fitness_function_sq, mutation, recombination, monte_carlo_selection)\n",
    "\n",
    "a_best_sq, b_best_sq, c_best_sq = decode_individual_sq(results_sq[-1])\n",
    "a_first_sq, b_first_sq, c_first_sq = decode_individual_sq(results_sq[1])\n",
    "\n",
    "plt.rcParams['figure.figsize'] = [20, 10]\n",
    "\n",
    "x_best_sq = np.arange(0.0, 175000.0, 1.0)\n",
    "y_best_sq = np.add(np.multiply(np.multiply(x_best_sq,x_best_sq),a_best_sq), np.add(np.multiply(x_best_sq,b_best_sq), c_best_sq))\n",
    "y_first_sq = np.add(np.multiply(np.multiply(x_best_sq,x_best_sq),a_first_sq), np.add(np.multiply(x_best_sq,b_first_sq), c_first_sq))\n",
    "\n",
    "plt.scatter(X,Y,marker=\"o\"),\n",
    "plt.plot(x_best_sq, y_best_sq)\n",
    "# plt.plot(x_best, y_first)\n",
    "plt.xlabel(\"How many people own the game\")\n",
    "plt.ylabel(\"How many times the game was played\")\n",
    "plt.show()\n",
    "print(f\"Best solution {a_best_sq}x^2 + {b_best_sq}x + {c_best_sq}\")"
   ]
  },
  {
   "cell_type": "markdown",
   "id": "6021d330-0648-4991-b3ca-440dc5b0bd7e",
   "metadata": {},
   "source": [
    "# And now for something completely different\n",
    "We have a distance matrix that can be understand as:\n",
    "\n",
    "|       | A | B | C | D | E |\n",
    "|-------|---|---|---|---|---|\n",
    "| **A** | 0 | 2 | 3 | 4 | 5 |\n",
    "| **B** | 2 | 0 | 1 | 2 | 3 |\n",
    "| **C** | 1 | 2 | 0 | 3 | 1 |\n",
    "| **D** | 4 | 3 | 2 | 0 | 1 |\n",
    "| **E** | 1 | 5 | 2 | 3 | 0 |\n",
    "\n",
    "Let's find the shortest route!"
   ]
  },
  {
   "cell_type": "code",
   "execution_count": null,
   "id": "d6b05ccc-24db-4796-81d4-64cd908e9b9e",
   "metadata": {},
   "outputs": [],
   "source": [
    "distance_matrix = [\n",
    "    [0, 2, 3, 4, 5],\n",
    "    [2, 0, 1, 2, 3],\n",
    "    [1, 2, 0, 3, 1],\n",
    "    [4, 3, 2, 0, 1],\n",
    "    [1, 5, 2, 3, 0]\n",
    "]"
   ]
  },
  {
   "cell_type": "markdown",
   "id": "a4558a00-304c-4158-b4de-9a827c08d3ee",
   "metadata": {},
   "source": [
    "## Population & Fitness\n",
    "We need to change our view on generating a phenotype and calculating its fitness."
   ]
  },
  {
   "cell_type": "code",
   "execution_count": null,
   "id": "841db075-936e-4007-8abc-708aa4dd8db7",
   "metadata": {},
   "outputs": [],
   "source": [
    "def generate_phenotype_map(size: int):\n",
    "    phenotype = list(range(0, size))\n",
    "    random.shuffle(phenotype)\n",
    "    return phenotype\n",
    "\n",
    "def fitness_function_map(individual):\n",
    "    fitness = 0\n",
    "    for i in range(1, len(individual)):\n",
    "        fitness = fitness + distance_matrix[individual[i-1]][individual[i]]\n",
    "    return individual, fitness\n",
    "\n",
    "population_map = generate_population(10, 5, generate_phenotype_map)\n",
    "\n",
    "print(f'Fitness of {population_map[0]} is {fitness_function_map(population_map[0])[1]}')"
   ]
  },
  {
   "cell_type": "markdown",
   "id": "dff573c1-dadf-4843-a954-8dc684cc55d2",
   "metadata": {},
   "source": [
    "## Mutation\n",
    "Instead of changing value to the opposite we exchange places of the indexes in the list."
   ]
  },
  {
   "cell_type": "code",
   "execution_count": null,
   "id": "3edf1365-c55a-47aa-af7a-f5045800aa05",
   "metadata": {},
   "outputs": [],
   "source": [
    "def mutation_map(individual, initial_mutation_rate):\n",
    "    mutation_rate = 1/len(individual) if initial_mutation_rate < 0 else initial_mutation_rate\n",
    "    new_phenotype = list(individual)\n",
    "    for i in range(len(new_phenotype)):\n",
    "        if random.random() < mutation_rate:\n",
    "            index = random.choice(range(0, len(new_phenotype)))\n",
    "            new_phenotype[i], new_phenotype[index] = new_phenotype[index], new_phenotype[i]\n",
    "    return new_phenotype\n",
    "\n",
    "test = [1, 2, 3, 4, 5, 6, 7, 8, 9, 10]\n",
    "print(mutation_map(test, -1))"
   ]
  },
  {
   "cell_type": "markdown",
   "id": "8fe67ae1-4a5b-4ec7-bc5d-780f94fe676c",
   "metadata": {},
   "source": [
    "## Recombination\n",
    "This one's tricky. We take a part of one individual and then supplement the second part with missing indexes from the second 'parent' in order, in which they appear in it."
   ]
  },
  {
   "cell_type": "code",
   "execution_count": null,
   "id": "b417210e-7c70-43a4-bc23-3ff0e3e268fa",
   "metadata": {},
   "outputs": [],
   "source": [
    "def recombination_map(individual_1, individual_2):\n",
    "    def add_missing(child, parent):\n",
    "        new_child = list(child)\n",
    "        for index in parent:\n",
    "            if index not in new_child:\n",
    "                new_child.append(index)\n",
    "        return new_child\n",
    "    crossover_point = random.randrange(1, len(individual_1), 1)\n",
    "    child_1 = add_missing(individual_2[:crossover_point], individual_1)\n",
    "    child_2 = add_missing(individual_1[:crossover_point], individual_2)\n",
    "    return child_1, child_2\n",
    "\n",
    "test_1 = [0, 1, 2, 3, 4, 5, 6, 7, 8, 9]\n",
    "test_2 = [9, 8, 7, 6, 5, 4, 3, 2, 1, 0]\n",
    "child_1, child_2 = recombination_map(test_1, test_2)\n",
    "print(f\"Children: {str(child_1)} & {str(child_2)}\")"
   ]
  },
  {
   "cell_type": "markdown",
   "id": "59d2659e-1d6d-4eb3-84c9-7d28d565ef13",
   "metadata": {},
   "source": [
    "# Let's solve this!\n",
    "We just put our new functions in the old loop and calculate the answer\n",
    "\n",
    "Psssst... we're expecting \\[3, 4, 0, 1, 2\\] as a result ;)"
   ]
  },
  {
   "cell_type": "code",
   "execution_count": null,
   "id": "dd2c7de5-def8-4ef4-9fae-f86c237f05cf",
   "metadata": {},
   "outputs": [],
   "source": [
    "results_map = breedResult(population_map, -1, 2, 10, fitness_function_map, mutation_map, recombination_map, monte_carlo_selection)\n",
    "print(f'The result is {results_map[-1]} with fitness of {fitness_function_map(results_map[-1])[1]}')"
   ]
  },
  {
   "cell_type": "markdown",
   "id": "24cd08f9-0d02-4bd0-a482-4f6946fb8cd3",
   "metadata": {},
   "source": [
    "We can easily calculate that for **population** of *10* in *10* **epochs** we have generated 100 individuals. If we did the same with brute force it'd be *5!* or *120*. So we solved it intelligently."
   ]
  },
  {
   "cell_type": "code",
   "execution_count": null,
   "id": "df3711f7-3ced-491e-b515-44a521632836",
   "metadata": {},
   "outputs": [],
   "source": []
  }
 ],
 "metadata": {
  "kernelspec": {
   "display_name": "Python 3 (ipykernel)",
   "language": "python",
   "name": "python3"
  },
  "language_info": {
   "codemirror_mode": {
    "name": "ipython",
    "version": 3
   },
   "file_extension": ".py",
   "mimetype": "text/x-python",
   "name": "python",
   "nbconvert_exporter": "python",
   "pygments_lexer": "ipython3",
   "version": "3.9.10"
  }
 },
 "nbformat": 4,
 "nbformat_minor": 5
}
